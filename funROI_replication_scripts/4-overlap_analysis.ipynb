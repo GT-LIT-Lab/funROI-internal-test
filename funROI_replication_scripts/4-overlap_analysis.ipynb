{
 "cells": [
  {
   "cell_type": "code",
   "execution_count": 1,
   "metadata": {},
   "outputs": [],
   "source": [
    "import sys\n",
    "import os\n",
    "import glob\n",
    "\n",
    "package_path = \"../../funROI\"\n",
    "sys.path.append(os.path.abspath(package_path))\n",
    "import funROI\n",
    "\n",
    "funROI.set_bids_data_folder(\"../data/bids\")\n",
    "funROI.set_bids_deriv_folder(\"../data/bids/derivatives/funROI\")\n",
    "funROI.set_bids_preprocessed_folder(\"../data/bids/derivatives/fmriprep\")\n",
    "\n",
    "# Turn off all warnings\n",
    "import warnings\n",
    "warnings.filterwarnings(\"ignore\")"
   ]
  },
  {
   "cell_type": "code",
   "execution_count": 2,
   "metadata": {},
   "outputs": [],
   "source": [
    "from funROI.analysis import OverlapEstimator\n",
    "from funROI.froi import FROI"
   ]
  },
  {
   "cell_type": "markdown",
   "metadata": {},
   "source": [
    "# Parcels Overlap"
   ]
  },
  {
   "cell_type": "code",
   "execution_count": 3,
   "metadata": {},
   "outputs": [],
   "source": [
    "overlap_estimator = OverlapEstimator(task_frois=['Events', 'Language'])\n",
    "overlap_parcels = overlap_estimator.compute_overlap()\n",
    "overlap_parcels.to_csv(\"overlap_parcels.csv\", index=False)"
   ]
  },
  {
   "cell_type": "code",
   "execution_count": 4,
   "metadata": {},
   "outputs": [],
   "source": [
    "import pandas as pd \n",
    "import numpy as np\n",
    "funroi_data = pd.read_csv(\"overlap_parcels.csv\")    \n",
    "spm_data = pd.read_csv(\"../data/spm_ss_results/overlap_parcels.csv\").dropna()\n",
    "spm_data['ROI1'] = np.round(spm_data['ROI1'])\n",
    "spm_data['ROI2'] = np.round(spm_data['ROI2'])"
   ]
  },
  {
   "cell_type": "code",
   "execution_count": 5,
   "metadata": {},
   "outputs": [
    {
     "data": {
      "text/plain": [
       "(np.float64(2.220446049250313e-16), np.float64(-3.3306690738754696e-16))"
      ]
     },
     "execution_count": 5,
     "metadata": {},
     "output_type": "execute_result"
    }
   ],
   "source": [
    "merged = pd.merge(funroi_data, spm_data, left_on=['froi1', 'froi2'], right_on=['ROI1', 'ROI2'])\n",
    "merged = merged[['froi1', 'froi2', 'overlap', 'Overlap']].rename(columns={\n",
    "    'overlap': 'funROI_overlap', 'Overlap': 'spm_overlap'\n",
    "    })\n",
    "(merged['funROI_overlap'] - merged['spm_overlap']).max(), (merged['funROI_overlap'] - merged['spm_overlap']).min()"
   ]
  },
  {
   "cell_type": "markdown",
   "metadata": {},
   "source": [
    "# fROIs Overlap"
   ]
  },
  {
   "cell_type": "code",
   "execution_count": 6,
   "metadata": {},
   "outputs": [],
   "source": [
    "subjects = [\n",
    "    \"040\",\n",
    "    \"057\",\n",
    "    \"059\",\n",
    "    \"056\",\n",
    "    \"067\",\n",
    "    \"068\",\n",
    "    \"019\",\n",
    "    \"070\",\n",
    "    \"087\",\n",
    "    \"078\",\n",
    "    \"089\",\n",
    "    \"076\",\n",
    "]\n",
    "\n",
    "frois = [\n",
    "    (\n",
    "        \"SWNloc\",\n",
    "        [\n",
    "            FROI(\n",
    "                localizer=\"S-N\",\n",
    "                thresholdType=\"percent\",\n",
    "                thresholdValue=0.1,\n",
    "                parcels=\"Language\",\n",
    "            ),\n",
    "        ],\n",
    "    ),\n",
    "    (\n",
    "        \"EventsOrig\",\n",
    "        [\n",
    "            FROI(\n",
    "                localizer=\"Sem_photominusPerc_photo\",\n",
    "                thresholdType=\"percent\",\n",
    "                thresholdValue=0.1,\n",
    "                parcels=\"Events\",\n",
    "            ),\n",
    "            FROI(\n",
    "                localizer=\"Sem_sentminusPerc_sent\",\n",
    "                thresholdType=\"percent\",\n",
    "                thresholdValue=0.1,\n",
    "                parcels=\"Events\",\n",
    "            ),\n",
    "            FROI(\n",
    "                localizer=\"SemMinusPercBothMax\",\n",
    "                contrasts=[\n",
    "                    \"Sem_photominusPerc_photo\",\n",
    "                    \"Sem_sentminusPerc_sent\",\n",
    "                ],\n",
    "                conjunctionType=\"max\",\n",
    "                thresholdType=\"percent\",\n",
    "                thresholdValue=0.1,\n",
    "                parcels=\"Events\",\n",
    "            ),\n",
    "        ],\n",
    "    ),\n",
    "]"
   ]
  },
  {
   "cell_type": "code",
   "execution_count": 7,
   "metadata": {},
   "outputs": [],
   "source": [
    "overlap_estimator = OverlapEstimator(subjects=subjects, task_frois=frois)\n",
    "overlap_parcels = overlap_estimator.compute_overlap()\n",
    "overlap_parcels.to_csv(\"overlap_frois.csv\", index=False)"
   ]
  },
  {
   "cell_type": "code",
   "execution_count": 8,
   "metadata": {},
   "outputs": [
    {
     "name": "stdout",
     "output_type": "stream",
     "text": [
      "180\n"
     ]
    }
   ],
   "source": [
    "import pandas as pd\n",
    "import numpy as np\n",
    "\n",
    "funroi_data = pd.read_csv(\"overlap_frois.csv\")\n",
    "funroi_data['localizer1'] = funroi_data['localizer1'].map({\n",
    "    'SemMinusPercBothMax': 'Sem-Perc_Both',\n",
    "    'Sem_photominusPerc_photo': 'Sem-Perc_Photo',\n",
    "    'Sem_sentminusPerc_sent': 'Sem-Perc_Sent',\n",
    "    'S-N': 'S-N'\n",
    "})\n",
    "funroi_data['localizer2'] = funroi_data['localizer2'].map({\n",
    "    'SemMinusPercBothMax': 'Sem-Perc_Both',\n",
    "    'Sem_photominusPerc_photo': 'Sem-Perc_Photo',\n",
    "    'Sem_sentminusPerc_sent': 'Sem-Perc_Sent',\n",
    "    'S-N': 'S-N'\n",
    "})\n",
    "\n",
    "spm_data = []\n",
    "spm_results_dir = '../data/spm_ss_results/overlap_frois'\n",
    "subjects = ['040', '057', '059', '056', '067', '068', '019', '070', '087', '078', '089', '076']\n",
    "localizers = ['Sem-Perc_Both', 'Sem-Perc_Sent', 'Sem-Perc_Photo', 'S-N']\n",
    "for subject in subjects:\n",
    "    for i, localizer1 in enumerate(localizers):\n",
    "        for localizer2 in localizers[i:]:\n",
    "            if localizer1.split('_')[0] == localizer2.split('_')[0]:\n",
    "                if localizer1 != 'S-N':\n",
    "                    df1 = pd.read_csv(f\"{spm_results_dir}/{subject}_{localizer1}_{localizer2}_1.csv\")\n",
    "                    df1['subject'] = subject\n",
    "                    df1['localizer1'] = localizer1\n",
    "                    df1['localizer2'] = localizer2\n",
    "                    spm_data.append(df1)    \n",
    "                    df2 = pd.read_csv(f\"{spm_results_dir}/{subject}_{localizer1}_{localizer2}_2.csv\")\n",
    "                    df2['subject'] = subject\n",
    "                    df2['localizer1'] = localizer1\n",
    "                    df2['localizer2'] = localizer2\n",
    "                    spm_data.append(df2)\n",
    "            else:\n",
    "                df = pd.read_csv(f\"{spm_results_dir}/{subject}_{localizer1}_{localizer2}.csv\")\n",
    "                df['subject'] = subject\n",
    "                df['localizer1'] = localizer1\n",
    "                df['localizer2'] = localizer2\n",
    "                spm_data.append(df)\n",
    "print(len(spm_data))         \n",
    "spm_data = pd.concat(spm_data).dropna()\n",
    "spm_data['ROI1'] = np.round(spm_data['ROI1'])\n",
    "spm_data['ROI2'] = np.round(spm_data['ROI2'])\n",
    "spm_data['subject'] = spm_data['subject'].astype(int)\n",
    "\n",
    "spm_data['key'] = spm_data.apply(lambda x: tuple(sorted([(x['localizer1'], x['ROI1']), (x['localizer2'], x['ROI2'])])), axis=1)\n",
    "funroi_data['key'] = funroi_data.apply(lambda x: tuple(sorted([(x['localizer1'], x['froi1']), (x['localizer2'], x['froi2'])])), axis=1)"
   ]
  },
  {
   "cell_type": "code",
   "execution_count": 9,
   "metadata": {},
   "outputs": [],
   "source": [
    "spm_data = spm_data[['subject', 'key', 'Overlap']].groupby(['subject', 'key']).mean().reset_index()\n",
    "funroi_data = funroi_data[['subject', 'key', 'overlap']].groupby(['subject', 'key']).mean().reset_index()"
   ]
  },
  {
   "cell_type": "code",
   "execution_count": 10,
   "metadata": {},
   "outputs": [],
   "source": [
    "merged = pd.merge(funroi_data, spm_data, on=['subject', 'key'], how='right')\n",
    "merged = merged.rename(columns={'overlap': 'funROI_overlap', 'Overlap': 'spm_overlap'})"
   ]
  },
  {
   "cell_type": "code",
   "execution_count": 11,
   "metadata": {},
   "outputs": [
    {
     "data": {
      "text/html": [
       "<div>\n",
       "<style scoped>\n",
       "    .dataframe tbody tr th:only-of-type {\n",
       "        vertical-align: middle;\n",
       "    }\n",
       "\n",
       "    .dataframe tbody tr th {\n",
       "        vertical-align: top;\n",
       "    }\n",
       "\n",
       "    .dataframe thead th {\n",
       "        text-align: right;\n",
       "    }\n",
       "</style>\n",
       "<table border=\"1\" class=\"dataframe\">\n",
       "  <thead>\n",
       "    <tr style=\"text-align: right;\">\n",
       "      <th></th>\n",
       "      <th>subject</th>\n",
       "      <th>key</th>\n",
       "      <th>funROI_overlap</th>\n",
       "      <th>spm_overlap</th>\n",
       "      <th>diff</th>\n",
       "    </tr>\n",
       "  </thead>\n",
       "  <tbody>\n",
       "    <tr>\n",
       "      <th>3789</th>\n",
       "      <td>59</td>\n",
       "      <td>((Sem-Perc_Sent, 9), (Sem-Perc_Sent, 9))</td>\n",
       "      <td>0.287879</td>\n",
       "      <td>0.276923</td>\n",
       "      <td>1.095571e-02</td>\n",
       "    </tr>\n",
       "    <tr>\n",
       "      <th>5338</th>\n",
       "      <td>70</td>\n",
       "      <td>((S-N, 1), (Sem-Perc_Sent, 4))</td>\n",
       "      <td>0.656000</td>\n",
       "      <td>0.664000</td>\n",
       "      <td>8.000000e-03</td>\n",
       "    </tr>\n",
       "    <tr>\n",
       "      <th>3492</th>\n",
       "      <td>59</td>\n",
       "      <td>((Sem-Perc_Both, 9), (Sem-Perc_Sent, 9))</td>\n",
       "      <td>0.292308</td>\n",
       "      <td>0.284615</td>\n",
       "      <td>7.692308e-03</td>\n",
       "    </tr>\n",
       "    <tr>\n",
       "      <th>2970</th>\n",
       "      <td>57</td>\n",
       "      <td>((Sem-Perc_Sent, 1), (Sem-Perc_Sent, 1))</td>\n",
       "      <td>0.471910</td>\n",
       "      <td>0.471910</td>\n",
       "      <td>4.996004e-16</td>\n",
       "    </tr>\n",
       "    <tr>\n",
       "      <th>3542</th>\n",
       "      <td>59</td>\n",
       "      <td>((Sem-Perc_Photo, 1), (Sem-Perc_Photo, 1))</td>\n",
       "      <td>0.471910</td>\n",
       "      <td>0.471910</td>\n",
       "      <td>4.996004e-16</td>\n",
       "    </tr>\n",
       "    <tr>\n",
       "      <th>5193</th>\n",
       "      <td>68</td>\n",
       "      <td>((Sem-Perc_Photo, 8), (Sem-Perc_Photo, 8))</td>\n",
       "      <td>0.448598</td>\n",
       "      <td>0.448598</td>\n",
       "      <td>4.996004e-16</td>\n",
       "    </tr>\n",
       "    <tr>\n",
       "      <th>2271</th>\n",
       "      <td>56</td>\n",
       "      <td>((Sem-Perc_Sent, 9), (Sem-Perc_Sent, 9))</td>\n",
       "      <td>0.338462</td>\n",
       "      <td>0.338462</td>\n",
       "      <td>4.996004e-16</td>\n",
       "    </tr>\n",
       "    <tr>\n",
       "      <th>8334</th>\n",
       "      <td>87</td>\n",
       "      <td>((Sem-Perc_Sent, 7), (Sem-Perc_Sent, 7))</td>\n",
       "      <td>0.413043</td>\n",
       "      <td>0.413043</td>\n",
       "      <td>4.996004e-16</td>\n",
       "    </tr>\n",
       "    <tr>\n",
       "      <th>3690</th>\n",
       "      <td>59</td>\n",
       "      <td>((Sem-Perc_Photo, 9), (Sem-Perc_Photo, 9))</td>\n",
       "      <td>0.461538</td>\n",
       "      <td>0.461538</td>\n",
       "      <td>4.996004e-16</td>\n",
       "    </tr>\n",
       "    <tr>\n",
       "      <th>3417</th>\n",
       "      <td>59</td>\n",
       "      <td>((Sem-Perc_Both, 7), (Sem-Perc_Both, 7))</td>\n",
       "      <td>0.304348</td>\n",
       "      <td>0.304348</td>\n",
       "      <td>4.996004e-16</td>\n",
       "    </tr>\n",
       "  </tbody>\n",
       "</table>\n",
       "</div>"
      ],
      "text/plain": [
       "      subject                                         key  funROI_overlap  \\\n",
       "3789       59    ((Sem-Perc_Sent, 9), (Sem-Perc_Sent, 9))        0.287879   \n",
       "5338       70              ((S-N, 1), (Sem-Perc_Sent, 4))        0.656000   \n",
       "3492       59    ((Sem-Perc_Both, 9), (Sem-Perc_Sent, 9))        0.292308   \n",
       "2970       57    ((Sem-Perc_Sent, 1), (Sem-Perc_Sent, 1))        0.471910   \n",
       "3542       59  ((Sem-Perc_Photo, 1), (Sem-Perc_Photo, 1))        0.471910   \n",
       "5193       68  ((Sem-Perc_Photo, 8), (Sem-Perc_Photo, 8))        0.448598   \n",
       "2271       56    ((Sem-Perc_Sent, 9), (Sem-Perc_Sent, 9))        0.338462   \n",
       "8334       87    ((Sem-Perc_Sent, 7), (Sem-Perc_Sent, 7))        0.413043   \n",
       "3690       59  ((Sem-Perc_Photo, 9), (Sem-Perc_Photo, 9))        0.461538   \n",
       "3417       59    ((Sem-Perc_Both, 7), (Sem-Perc_Both, 7))        0.304348   \n",
       "\n",
       "      spm_overlap          diff  \n",
       "3789     0.276923  1.095571e-02  \n",
       "5338     0.664000  8.000000e-03  \n",
       "3492     0.284615  7.692308e-03  \n",
       "2970     0.471910  4.996004e-16  \n",
       "3542     0.471910  4.996004e-16  \n",
       "5193     0.448598  4.996004e-16  \n",
       "2271     0.338462  4.996004e-16  \n",
       "8334     0.413043  4.996004e-16  \n",
       "3690     0.461538  4.996004e-16  \n",
       "3417     0.304348  4.996004e-16  "
      ]
     },
     "execution_count": 11,
     "metadata": {},
     "output_type": "execute_result"
    }
   ],
   "source": [
    "# first 10 of absolute differences\n",
    "merged['diff'] = np.abs(merged['funROI_overlap'] - merged['spm_overlap'])\n",
    "merged = merged.sort_values('diff', ascending=False)\n",
    "merged.head(10)\n"
   ]
  }
 ],
 "metadata": {
  "kernelspec": {
   "display_name": "funROI",
   "language": "python",
   "name": "python3"
  },
  "language_info": {
   "codemirror_mode": {
    "name": "ipython",
    "version": 3
   },
   "file_extension": ".py",
   "mimetype": "text/x-python",
   "name": "python",
   "nbconvert_exporter": "python",
   "pygments_lexer": "ipython3",
   "version": "3.12.6"
  }
 },
 "nbformat": 4,
 "nbformat_minor": 2
}
